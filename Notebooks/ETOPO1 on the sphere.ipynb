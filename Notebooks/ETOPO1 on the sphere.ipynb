{
 "cells": [
  {
   "cell_type": "markdown",
   "metadata": {
    "deletable": true,
    "editable": true
   },
   "source": [
    "# ETOPO1 on the sphere"
   ]
  },
  {
   "cell_type": "code",
   "execution_count": null,
   "metadata": {
    "collapsed": true,
    "deletable": true,
    "editable": true
   },
   "outputs": [],
   "source": [
    "import numpy as np\n",
    "import matplotlib.pyplot as plt\n",
    "%matplotlib inline\n",
    "\n",
    "import quagmire\n",
    "from petsc4py import PETSc\n",
    "from scipy.spatial import cKDTree"
   ]
  },
  {
   "cell_type": "code",
   "execution_count": null,
   "metadata": {
    "collapsed": false,
    "deletable": true,
    "editable": true
   },
   "outputs": [],
   "source": [
    "ETOPO1_file = \"data/ETOPO1_Bed_g_int.xyz_100k.npz\"\n",
    "\n",
    "with np.load(ETOPO1_file, 'r') as f:\n",
    "    etopo1 = f['arr_0']\n",
    "    npoints = etopo1.shape[0]\n",
    "    \n",
    "# convert to radians\n",
    "lons = etopo1[:,0]*np.pi/180 #+ np.random.random(npoints)*1e-5\n",
    "lats = etopo1[:,1]*np.pi/180 #+ np.random.random(npoints)*1e-5\n",
    "\n",
    "height = etopo1[:,2]\n",
    "\n",
    "# below sea level\n",
    "bmask = height > 0.0"
   ]
  },
  {
   "cell_type": "code",
   "execution_count": null,
   "metadata": {
    "collapsed": false,
    "deletable": true,
    "editable": true
   },
   "outputs": [],
   "source": [
    "# We add a little noise to avoid colinearity problem\n",
    "DM = quagmire.tools.create_spherical_DMPlex_from_points(lons+ np.random.random(npoints)*1e-8,\n",
    "                                                        lats+ np.random.random(npoints)*1e-8,\n",
    "                                                        bmask)"
   ]
  },
  {
   "cell_type": "code",
   "execution_count": null,
   "metadata": {
    "collapsed": false,
    "deletable": true,
    "editable": true,
    "scrolled": true
   },
   "outputs": [],
   "source": [
    "mesh = quagmire.SurfaceProcessMesh(DM)"
   ]
  },
  {
   "cell_type": "code",
   "execution_count": null,
   "metadata": {
    "collapsed": false,
    "deletable": true,
    "editable": true
   },
   "outputs": [],
   "source": [
    "# query KDTree to get ordering\n",
    "tree = cKDTree(np.column_stack([lons, lats]))\n",
    "d, idx = tree.query(np.column_stack([mesh.tri.lons, mesh.tri.lats]))\n",
    "\n",
    "topo = height[idx]"
   ]
  },
  {
   "cell_type": "code",
   "execution_count": null,
   "metadata": {
    "collapsed": false,
    "deletable": true,
    "editable": true
   },
   "outputs": [],
   "source": [
    "H5_name = 'spherical_mesh.h5'\n",
    "\n",
    "mesh.save_mesh_to_hdf5(H5_name)\n",
    "mesh.save_field_to_hdf5(H5_name, height=topo)\n",
    "quagmire.tools.generate_xdmf(H5_name)"
   ]
  },
  {
   "cell_type": "markdown",
   "metadata": {
    "deletable": true,
    "editable": true
   },
   "source": [
    "## Topography"
   ]
  },
  {
   "cell_type": "code",
   "execution_count": null,
   "metadata": {
    "collapsed": false,
    "deletable": true,
    "editable": true
   },
   "outputs": [],
   "source": [
    "mesh.update_height(topo)"
   ]
  },
  {
   "cell_type": "code",
   "execution_count": null,
   "metadata": {
    "collapsed": false,
    "deletable": true,
    "editable": true,
    "scrolled": true
   },
   "outputs": [],
   "source": [
    "upstream_area = mesh.cumulative_flow(np.ones(mesh.npoints))\n",
    "\n",
    "rainfall = height**2\n",
    "# rainfall[height<=0.0] = 0.0\n",
    "cumulative_rain = mesh.cumulative_flow(rainfall)\n",
    "cumulative_rain[height<=0] = 0.0"
   ]
  },
  {
   "cell_type": "code",
   "execution_count": null,
   "metadata": {
    "collapsed": true,
    "deletable": true,
    "editable": true
   },
   "outputs": [],
   "source": [
    "mesh.save_field_to_hdf5(H5_name, upstream_area=upstream_area)\n",
    "mesh.save_field_to_hdf5(H5_name, slope=mesh.slope)\n",
    "mesh.save_field_to_hdf5(H5_name, rain=cumulative_rain)\n",
    "quagmire.tools.generate_xdmf(H5_name)"
   ]
  }
 ],
 "metadata": {
  "kernelspec": {
   "display_name": "Python 2",
   "language": "python",
   "name": "python2"
  },
  "language_info": {
   "codemirror_mode": {
    "name": "ipython",
    "version": 2
   },
   "file_extension": ".py",
   "mimetype": "text/x-python",
   "name": "python",
   "nbconvert_exporter": "python",
   "pygments_lexer": "ipython2",
   "version": "2.7.13"
  }
 },
 "nbformat": 4,
 "nbformat_minor": 2
}
